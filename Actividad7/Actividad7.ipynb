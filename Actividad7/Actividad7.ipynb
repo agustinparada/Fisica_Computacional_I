{
  "nbformat": 4,
  "nbformat_minor": 0,
  "metadata": {
    "colab": {
      "name": "Actividad7.ipynb",
      "provenance": [],
      "collapsed_sections": [],
      "authorship_tag": "ABX9TyPHWK2Be7CYSqjjSxZn75bY",
      "include_colab_link": true
    },
    "kernelspec": {
      "name": "python3",
      "display_name": "Python 3"
    }
  },
  "cells": [
    {
      "cell_type": "markdown",
      "metadata": {
        "id": "view-in-github",
        "colab_type": "text"
      },
      "source": [
        "<a href=\"https://colab.research.google.com/github/agustinparada/Fisica_Computacional_I/blob/master/Actividad7/Actividad7.ipynb\" target=\"_parent\"><img src=\"https://colab.research.google.com/assets/colab-badge.svg\" alt=\"Open In Colab\"/></a>"
      ]
    },
    {
      "cell_type": "code",
      "metadata": {
        "id": "FqVdaZky1S56"
      },
      "source": [
        "#Bibliotecas\r\n",
        "import numpy as np\r\n",
        "import scipy.linalg as la\r\n",
        "from numpy.linalg import matrix_power as mpow\r\n",
        "import matplotlib.pyplot as plt\r\n",
        "import pandas as pd"
      ],
      "execution_count": 2,
      "outputs": []
    },
    {
      "cell_type": "code",
      "metadata": {
        "colab": {
          "base_uri": "https://localhost:8080/"
        },
        "id": "iDltEmel2a-c",
        "outputId": "f168696f-e46c-41d0-e67e-b27e17d5cf03"
      },
      "source": [
        "# Definimos un arreglo 1-D:\r\n",
        "a=np.array([1,2,3,4,5,6,7])\r\n",
        "print(a,'\\n')\r\n",
        "\r\n",
        "# Imprimimos ahora sus propiedades:\r\n",
        "print('Número de dimensiones:', a.ndim)\r\n",
        "print('Forma (shape):', a.shape)\r\n",
        "print('Tamaño:', a.size)"
      ],
      "execution_count": 3,
      "outputs": [
        {
          "output_type": "stream",
          "text": [
            "[1 2 3 4 5 6 7] \n",
            "\n",
            "Número de dimensiones: 1\n",
            "Forma (shape): (7,)\n",
            "Tamaño: 7\n"
          ],
          "name": "stdout"
        }
      ]
    },
    {
      "cell_type": "code",
      "metadata": {
        "colab": {
          "base_uri": "https://localhost:8080/"
        },
        "id": "Hjn5gR1l3Y6T",
        "outputId": "9be07a23-9146-4f90-a672-cb97a71e6363"
      },
      "source": [
        "# Definimos un arreglo de 2 dimensiones (2-D)\r\n",
        "M=np.array([[1,2],[3,4],[5,6],[7,8],[9,10]])\r\n",
        "print(M,'\\n')\r\n",
        "\r\n",
        "# Imprimamos sus propiedades:\r\n",
        "print('Número de dimensiones:', M.ndim)\r\n",
        "print('Forma (shape):', M.shape)\r\n",
        "print('Tamaño:', M.size,'\\n')\r\n"
      ],
      "execution_count": 4,
      "outputs": [
        {
          "output_type": "stream",
          "text": [
            "[[ 1  2]\n",
            " [ 3  4]\n",
            " [ 5  6]\n",
            " [ 7  8]\n",
            " [ 9 10]] \n",
            "\n",
            "Número de dimensiones: 2\n",
            "Forma (shape): (5, 2)\n",
            "Tamaño: 10 \n",
            "\n"
          ],
          "name": "stdout"
        }
      ]
    },
    {
      "cell_type": "code",
      "metadata": {
        "colab": {
          "base_uri": "https://localhost:8080/"
        },
        "id": "rDJ-cJzh7zPC",
        "outputId": "0e08205f-4754-42e3-cbe1-ee2b90e8168e"
      },
      "source": [
        "#Selección de una columna\r\n",
        "col1=M[:,1]\r\n",
        "print(col1,'\\n')\r\n",
        "print('Número de dimensiones:', col1.ndim)\r\n",
        "print('Forma (shape):', col1.shape)\r\n",
        "print('Tamaño:', col1.size,'\\n')"
      ],
      "execution_count": 5,
      "outputs": [
        {
          "output_type": "stream",
          "text": [
            "[ 2  4  6  8 10] \n",
            "\n",
            "Número de dimensiones: 1\n",
            "Forma (shape): (5,)\n",
            "Tamaño: 5 \n",
            "\n"
          ],
          "name": "stdout"
        }
      ]
    },
    {
      "cell_type": "code",
      "metadata": {
        "colab": {
          "base_uri": "https://localhost:8080/"
        },
        "id": "c0I8Df0S7cVx",
        "outputId": "97bfa8f5-45d1-4dc4-9d26-32df13dcb22c"
      },
      "source": [
        "# Crearemos otro objeto distinto a partir de la columna anteriormente usada:\r\n",
        "c=col1.reshape(5,1)\r\n",
        "print(c,'\\n')\r\n",
        "print('Número de dimensiones:', c.ndim)\r\n",
        "print('Forma (shape):', c.shape)\r\n",
        "print('Tamaño:', c.size,'\\n')"
      ],
      "execution_count": 6,
      "outputs": [
        {
          "output_type": "stream",
          "text": [
            "[[ 2]\n",
            " [ 4]\n",
            " [ 6]\n",
            " [ 8]\n",
            " [10]] \n",
            "\n",
            "Número de dimensiones: 2\n",
            "Forma (shape): (5, 1)\n",
            "Tamaño: 5 \n",
            "\n"
          ],
          "name": "stdout"
        }
      ]
    },
    {
      "cell_type": "markdown",
      "metadata": {
        "id": "20mYbC3S8IzR"
      },
      "source": [
        "***Operaciones y funciones matrix***"
      ]
    },
    {
      "cell_type": "code",
      "metadata": {
        "id": "Oyg55SW28NYY",
        "colab": {
          "base_uri": "https://localhost:8080/"
        },
        "outputId": "7b894f84-003b-4050-9cdf-3626df426148"
      },
      "source": [
        "# Definimos m, n:\r\n",
        "m=np.array([[1,2],[3,4]])\r\n",
        "n=np.array([[5,6],[7,8]])\r\n",
        "print('Suma de matrices:')\r\n",
        "print(m+n,'\\n')\r\n",
        "print('Resta de matrices')\r\n",
        "print(m-n,'\\n')\r\n",
        "\r\n",
        "print('Multiplicación matricial (término a término):')\r\n",
        "print(m*n,'\\n')\r\n",
        "print('Producto matricial')\r\n",
        "print(m@n)"
      ],
      "execution_count": 7,
      "outputs": [
        {
          "output_type": "stream",
          "text": [
            "Suma de matrices:\n",
            "[[ 6  8]\n",
            " [10 12]] \n",
            "\n",
            "Resta de matrices\n",
            "[[-4 -4]\n",
            " [-4 -4]] \n",
            "\n",
            "Multiplicación matricial (término a término):\n",
            "[[ 5 12]\n",
            " [21 32]] \n",
            "\n",
            "Producto matricial\n",
            "[[19 22]\n",
            " [43 50]]\n"
          ],
          "name": "stdout"
        }
      ]
    },
    {
      "cell_type": "markdown",
      "metadata": {
        "id": "zrfkUWAuGh6z"
      },
      "source": [
        "# ***Ejercicio 1***\r\n",
        "Sean las siguientes matrices:\r\n",
        "\r\n",
        "$$ A=\\begin{bmatrix}\r\n",
        "1 & 3\\\\\r\n",
        "-1 & 7 \\end{bmatrix} $$\r\n",
        "\r\n",
        "$$ B=\\begin{bmatrix}\r\n",
        "5 & 2\\\\\r\n",
        "1 & 2 \\end{bmatrix} $$\r\n",
        "\r\n",
        "Y, tenemos a la matriz identidad:\r\n",
        "\r\n",
        "$$ I=\\begin{bmatrix}\r\n",
        "1 & 0\\\\\r\n",
        "0 & 1 \\end{bmatrix} $$\r\n",
        "\r\n",
        "Obtener: $2I+3A+AB$, lo que es:\r\n",
        "$$ 2*I+3*A+A@B $$"
      ]
    },
    {
      "cell_type": "code",
      "metadata": {
        "colab": {
          "base_uri": "https://localhost:8080/"
        },
        "id": "hZlmAN_4JHmG",
        "outputId": "261845d9-6d4b-4a16-e526-6f34f27847e7"
      },
      "source": [
        "# Definición de A y B:\r\n",
        "a=np.array([[1,3],[-1,7]])\r\n",
        "b=np.array([[5,2],[1,2]])\r\n",
        "i=np.eye(2, dtype=int)\r\n",
        "\r\n",
        "#Hacemos la operación\r\n",
        "print('Cálculo del resultado de la operación:\\n')\r\n",
        "print(2*i+3*a+a@b,'\\n')"
      ],
      "execution_count": 8,
      "outputs": [
        {
          "output_type": "stream",
          "text": [
            "Cálculo del resultado de la operación:\n",
            "\n",
            "[[13 17]\n",
            " [-1 35]] \n",
            "\n"
          ],
          "name": "stdout"
        }
      ]
    },
    {
      "cell_type": "code",
      "metadata": {
        "id": "7nIwEoHHJ5WR",
        "colab": {
          "base_uri": "https://localhost:8080/"
        },
        "outputId": "edb8459b-fa95-489e-af51-eb97843b3879"
      },
      "source": [
        "# Comparamos utilizar mpow() y m@m:\r\n",
        "print('\"a\" al cuadrado es:\\n')\r\n",
        "print(a@a)\r\n",
        "print(mpow(a,2),'\\n')\r\n",
        "print('\"b\" a la quinta es:\\n')\r\n",
        "print(b@b@b@b@b)\r\n",
        "print(mpow(b,5))"
      ],
      "execution_count": 9,
      "outputs": [
        {
          "output_type": "stream",
          "text": [
            "\"a\" al cuadrado es:\n",
            "\n",
            "[[-2 24]\n",
            " [-8 46]]\n",
            "[[-2 24]\n",
            " [-8 46]] \n",
            "\n",
            "\"b\" a la quinta es:\n",
            "\n",
            "[[4597 2578]\n",
            " [1289  730]]\n",
            "[[4597 2578]\n",
            " [1289  730]]\n"
          ],
          "name": "stdout"
        }
      ]
    },
    {
      "cell_type": "markdown",
      "metadata": {
        "id": "HfwGznHp-o-k"
      },
      "source": [
        "# ***Ejercicio 2: Teorema de Cayley - Hamilton***\r\n",
        "Este teorema afirma que cualquier matriz $n\\times n$ con determinante distinto de 0 ($\\det{A}\\neq 0$) satisface su polinomio característico en términos de $A$. Lo que es:\r\n",
        "\r\n",
        "$$ p(A)=A^n +c_1A^{n-1}+\\dots +\\det{(A)}I_n =0$$\r\n",
        "\r\n",
        "Donde $I_n$ es la matriz identidad $n\\times n$. Este resultado es una consecuencia directa de la ecuación característica para obtener los eigenvectores y eigenvalores de una matriz. Ahora bien, presentamos el caso particular de las matrices $2\\times 2$:\r\n",
        "\r\n",
        "$$ P(A)=A^2-tr(A)A+\\det{(A)}I_2=\\begin{bmatrix}\r\n",
        "0 & 0\\\\\r\n",
        "0 & 0\r\n",
        "\\end{bmatrix} $$\r\n",
        "\r\n",
        "Demostración para matrices $2\\times 2$:\r\n",
        "\r\n",
        "$P(A)$ la podemos representar, en general para $A=\\begin{bmatrix}\r\n",
        "a & b\\\\\r\n",
        "c & d\r\n",
        "\\end{bmatrix}$ de la forma:\r\n",
        "\r\n",
        "$$ \\begin{bmatrix}\r\n",
        "a & b\\\\\r\n",
        "c & d\r\n",
        "\\end{bmatrix}^2-(a+d)\\begin{bmatrix}\r\n",
        "a & b\\\\\r\n",
        "c & d\r\n",
        "\\end{bmatrix}+\\begin{bmatrix}\r\n",
        "ad-bc & 0\\\\\r\n",
        "0 & ad-bc\r\n",
        "\\end{bmatrix} $$\r\n",
        "\r\n",
        "Desarrollando:\r\n",
        "\r\n",
        "$$ \\begin{bmatrix}\r\n",
        "a^2+bc & ab+bd\\\\\r\n",
        "ac+dc & d^2+cb\r\n",
        "\\end{bmatrix} +\\begin{bmatrix}\r\n",
        "-a^2-ad & -ad-bd\\\\\r\n",
        "-ac-dc & -d^2-ad\r\n",
        "\\end{bmatrix}+\\begin{bmatrix}\r\n",
        "ad-bc & 0\\\\\r\n",
        "0 & ad-bc\r\n",
        "\\end{bmatrix}$$\r\n",
        "\r\n",
        "De donde podemos ver que:\r\n",
        "\r\n",
        "$$ p(A)=\\begin{bmatrix}\r\n",
        "0 & 0\\\\\r\n",
        "0 & 0\r\n",
        "\\end{bmatrix} $$\r\n",
        "\r\n",
        "Lo que concluye la demostración."
      ]
    },
    {
      "cell_type": "code",
      "metadata": {
        "colab": {
          "base_uri": "https://localhost:8080/"
        },
        "id": "Tw3HYbNXpwjd",
        "outputId": "14030272-0a93-47f4-f812-d1bd3ccd4f4a"
      },
      "source": [
        "# Pongamos a prueba el teorema con unos ejemplos.\r\n",
        "R1=[]\r\n",
        "R2=[]\r\n",
        "print('Leer las entradas de la matriz:\\n')\r\n",
        "for a in range(1,3):\r\n",
        " for b in range(1,3):\r\n",
        "   if a==1:\r\n",
        "     print('Escribe el elemento del renglón ',a,' de la columna ',b)\r\n",
        "     R1.append(float(input()))\r\n",
        "   elif a==2:\r\n",
        "     print('Escribe el elemento del renglón ',a,' de la columna ',b)\r\n",
        "     R2.append(float(input()))\r\n",
        "A=np.array([R1,R2])\r\n",
        "print('\\n')\r\n",
        "if la.det(A)!=0:\r\n",
        "  pol=mpow(A,2) - np.trace(A)*A + la.det(A)*np.eye(2, dtype=int)\r\n",
        "  print('El resultado de la operación con el polinomio resulta:\\n')\r\n",
        "  print(pol)\r\n",
        "else:\r\n",
        "  print('El determinante de la matriz escrita es iguala 0, por lo que no se cumplen las hipótesis del teorema. Intenta con otra matriz.')"
      ],
      "execution_count": 10,
      "outputs": [
        {
          "output_type": "stream",
          "text": [
            "Leer las entradas de la matriz:\n",
            "\n",
            "Escribe el elemento del renglón  1  de la columna  1\n",
            "1\n",
            "Escribe el elemento del renglón  1  de la columna  2\n",
            "-8\n",
            "Escribe el elemento del renglón  2  de la columna  1\n",
            "2\n",
            "Escribe el elemento del renglón  2  de la columna  2\n",
            "5\n",
            "\n",
            "\n",
            "El resultado de la operación con el polinomio resulta:\n",
            "\n",
            "[[0. 0.]\n",
            " [0. 0.]]\n"
          ],
          "name": "stdout"
        }
      ]
    },
    {
      "cell_type": "markdown",
      "metadata": {
        "id": "ExsLpL7u8RnK"
      },
      "source": [
        "# ***Ejercicio 3: Resolución de sistemas de ecuaciones lineales***\r\n",
        "Para ello, se utilizará el método de eliminación de Gauss - Jordan."
      ]
    },
    {
      "cell_type": "code",
      "metadata": {
        "id": "vTkqe4k5cMa7"
      },
      "source": [
        "# Definimos las funciones necesarias (operaciones elementales: cambio de renglones, suma de múltiplo escalar entre renglones, múltiplo escalar de un renglón).\r\n",
        "def camb_reng(A,i,j):\r\n",
        "  E=np.eye(A.shape[0])\r\n",
        "  E[i,i]=0\r\n",
        "  E[j,j]=0\r\n",
        "  E[i,j]=1\r\n",
        "  E[j,i]=1\r\n",
        "  return E@A\r\n",
        "\r\n",
        "def multip_reng(A,k,i):\r\n",
        "  E=np.eye(A.shape[0])\r\n",
        "  E[i,i]=k\r\n",
        "  return E@A\r\n",
        "\r\n",
        "# Sumar k veces el renglón j al renglón i\r\n",
        "def sum_mult_reng(A,k,j,i):   \r\n",
        "  E=np.eye(A.shape[0])\r\n",
        "  if i==j:\r\n",
        "    E[i,i]=k+1\r\n",
        "  else:\r\n",
        "    E[i,j]=k\r\n",
        "  return E@A"
      ],
      "execution_count": 11,
      "outputs": []
    },
    {
      "cell_type": "markdown",
      "metadata": {
        "id": "n4x6QbdXeQ1z"
      },
      "source": [
        "Resolveremos el sistema de ecuaciones:\r\n",
        "\r\n",
        "$$ \\begin{align*}\r\n",
        "x-3y+z &=1\\\\\r\n",
        "3x-4y+z &=5\\\\\r\n",
        "2y-z &=0\r\n",
        "\\end{align*} $$\r\n",
        "\r\n",
        "Primero mediante (como se mencionó anteriormente) el método de Gauss Jordan. Para ello, primero visualicemos el sistema de forma matricial:\r\n",
        "\r\n",
        "$$ \\begin{bmatrix}\r\n",
        "1 & -3 & 1 \\\\\r\n",
        "3 & -4 & 1\\\\\r\n",
        "0 & 2 & -1\r\n",
        "\\end{bmatrix}\\begin{bmatrix}\r\n",
        "x \\\\\r\n",
        "y \\\\\r\n",
        "z\r\n",
        "\\end{bmatrix}=\\begin{bmatrix}\r\n",
        "1\\\\\r\n",
        "5\\\\\r\n",
        "0\r\n",
        "\\end{bmatrix} $$\r\n",
        "\r\n",
        "La matriz aumentada es:\r\n",
        "\r\n",
        "$$\\begin{bmatrix}\r\n",
        "1 & -3 & 1 & | & 1\\\\\r\n",
        "3 & -4 & 1 & | & 5\\\\\r\n",
        "0 & 2 & -1 & | & 0\r\n",
        "\\end{bmatrix}$$\r\n"
      ]
    },
    {
      "cell_type": "code",
      "metadata": {
        "colab": {
          "base_uri": "https://localhost:8080/"
        },
        "id": "KWD9uiC5fF79",
        "outputId": "d206329e-407d-43aa-eecf-c1e7ef83df6f"
      },
      "source": [
        "A=np.array([[1,-3,1],[3,-4,1],[0,2,-1]])\r\n",
        "b=np.array([1,5,0]).reshape(3,1)\r\n",
        "M=A\r\n",
        "M=np.hstack([M,b])\r\n",
        "print(M,'\\n')\r\n",
        "# Sumamos al 2° renglón el 1° multiplicado por -3:\r\n",
        "M=sum_mult_reng(M,-3,0,1)\r\n",
        "print(M,'\\n')\r\n",
        "# Multiplicamos el segundo renglón por 1/5:\r\n",
        "M=multip_reng(M,1/5,1)\r\n",
        "print(M,'\\n')\r\n",
        "# Sumamos el 2° renglón multiplicado por -2 al tercero\r\n",
        "M=sum_mult_reng(M,-2,1,2)\r\n",
        "print(M,'\\n')\r\n",
        "# Sumamos el 2° renglón multiplicado por 3 al tercero\r\n",
        "M=sum_mult_reng(M,3,1,0)\r\n",
        "print(M,'\\n')\r\n",
        "# Multiplicamos el renglón 3 por -1/0.2:\r\n",
        "M=multip_reng(M,-1/0.2,2)\r\n",
        "print(M,'\\n')\r\n",
        "# SUmamos el 3° reglón multiplicado por 0.2 al primero\r\n",
        "M=sum_mult_reng(M,0.2,2,0)\r\n",
        "print(M,'\\n')\r\n",
        "# Sumamos el 3° renglón multiplicado por 0.4 al segundo\r\n",
        "M=sum_mult_reng(M,0.4,2,1)\r\n",
        "print(M,'\\n')\r\n",
        "print('Considerando que los números: ',M[0,2],' y ',M[1,2],' son prácticamente 0, entonces tenemos la solución del lado derecho de la matriz:' )\r\n",
        "c=M[:,3].reshape(3,1)\r\n",
        "print('La solución del sistema es x = \\n',c)\r\n",
        "\r\n",
        "# Resolvemos ahora con la función la.solve()\r\n",
        "x=la.solve(A,b)\r\n",
        "print('Con la función la.solve()\\n')\r\n",
        "print(x)"
      ],
      "execution_count": 12,
      "outputs": [
        {
          "output_type": "stream",
          "text": [
            "[[ 1 -3  1  1]\n",
            " [ 3 -4  1  5]\n",
            " [ 0  2 -1  0]] \n",
            "\n",
            "[[ 1. -3.  1.  1.]\n",
            " [ 0.  5. -2.  2.]\n",
            " [ 0.  2. -1.  0.]] \n",
            "\n",
            "[[ 1.  -3.   1.   1. ]\n",
            " [ 0.   1.  -0.4  0.4]\n",
            " [ 0.   2.  -1.   0. ]] \n",
            "\n",
            "[[ 1.  -3.   1.   1. ]\n",
            " [ 0.   1.  -0.4  0.4]\n",
            " [ 0.   0.  -0.2 -0.8]] \n",
            "\n",
            "[[ 1.   0.  -0.2  2.2]\n",
            " [ 0.   1.  -0.4  0.4]\n",
            " [ 0.   0.  -0.2 -0.8]] \n",
            "\n",
            "[[ 1.   0.  -0.2  2.2]\n",
            " [ 0.   1.  -0.4  0.4]\n",
            " [ 0.   0.   1.   4. ]] \n",
            "\n",
            "[[ 1.00000000e+00  0.00000000e+00 -9.99200722e-17  3.00000000e+00]\n",
            " [ 0.00000000e+00  1.00000000e+00 -4.00000000e-01  4.00000000e-01]\n",
            " [ 0.00000000e+00  0.00000000e+00  1.00000000e+00  4.00000000e+00]] \n",
            "\n",
            "[[ 1.00000000e+00  0.00000000e+00 -9.99200722e-17  3.00000000e+00]\n",
            " [ 0.00000000e+00  1.00000000e+00 -8.88178420e-17  2.00000000e+00]\n",
            " [ 0.00000000e+00  0.00000000e+00  1.00000000e+00  4.00000000e+00]] \n",
            "\n",
            "Considerando que los números:  -9.992007221626409e-17  y  -8.881784197001253e-17  son prácticamente 0, entonces tenemos la solución del lado derecho de la matriz:\n",
            "La solución del sistema es x = \n",
            " [[3.]\n",
            " [2.]\n",
            " [4.]]\n",
            "Con la función la.solve()\n",
            "\n",
            "[[3.]\n",
            " [2.]\n",
            " [4.]]\n"
          ],
          "name": "stdout"
        }
      ]
    },
    {
      "cell_type": "markdown",
      "metadata": {
        "id": "2qWGT4_KiNkO"
      },
      "source": [
        "  # ***Ejercicio 4: Eigenvalores y Eigenvectores***\r\n",
        "\r\n",
        "  Sean las matrices:\r\n",
        "\r\n",
        "  $$ B_1=\\begin{bmatrix}\r\n",
        "  2 & 0 & 0\\\\\r\n",
        "  0 & 3 & 4\\\\\r\n",
        "  0 & 4 & 9\r\n",
        "  \\end{bmatrix} $$\r\n",
        "\r\n",
        "  $$ B_2=\\begin{bmatrix}\r\n",
        "  0 & 1 & 0\\\\\r\n",
        "  0 & 0 & 1\\\\\r\n",
        "  1 & 0 & 0\r\n",
        "  \\end{bmatrix} $$\r\n",
        "\r\n",
        "  $$ B_3 = \\begin{bmatrix}\r\n",
        "  2 & 0 & 0 & 0\\\\\r\n",
        "  1 & 2 & 0 & 0\\\\\r\n",
        "  0 & 1 & 3 & 0\\\\\r\n",
        "  0 & 0 & 1 & 3\r\n",
        "  \\end{bmatrix} $$\r\n",
        "\r\n",
        "  Calcular sus eigenvalores y sus eigenvectores correspondientes y contrastar resultados con los ofrecidos en wikipedia."
      ]
    },
    {
      "cell_type": "code",
      "metadata": {
        "colab": {
          "base_uri": "https://localhost:8080/"
        },
        "id": "Tzh4fBQVra7r",
        "outputId": "47816e9c-1717-440c-a6f3-1014cb8ff6ff"
      },
      "source": [
        "# Sean las matrices:\r\n",
        "B_1=np.array([[2,0,0],[0,3,4],[0,4,9]])\r\n",
        "print(B_1,'\\n')\r\n",
        "B_2=np.array([[0,1,0],[0,0,1],[1,0,0]])\r\n",
        "print(B_2,'\\n')\r\n",
        "B_3=np.array([[2,0,0,0],[1,2,0,0],[0,1,3,0],[0,0,1,3]])\r\n",
        "print(B_3,'\\n')\r\n",
        "# Calculamos los eigenvectores y los eigen valores\r\n",
        "eigval_1, eigvec_1=la.eig(B_1)\r\n",
        "eig1=eigvec_1[:,0]\r\n",
        "eig2=eigvec_1[:,1]\r\n",
        "eig3=eigvec_1[:,2]\r\n",
        "\r\n",
        "print('Resultados de B1: \\n')\r\n",
        "print('Eigenvalores: ',eigval_1,'\\n')\r\n",
        "print('Eigenvectores: ')\r\n",
        "print(eig1,'\\n' )\r\n",
        "print(eig2,'\\n' )\r\n",
        "print(eig3,'\\n' )\r\n",
        "\r\n",
        "eigval_2, eigvec_2=la.eig(B_2)\r\n",
        "eig1=eigvec_2[:,0]\r\n",
        "eig2=eigvec_2[:,1]\r\n",
        "eig3=eigvec_2[:,2]\r\n",
        "\r\n",
        "print('Resultados de B2: \\n')\r\n",
        "print('Eigenvalores: ',eigval_2,'\\n')\r\n",
        "print('Eigenvectores: ')\r\n",
        "print(eig1,'\\n' )\r\n",
        "print(eig2,'\\n' )\r\n",
        "print(eig3,'\\n' )\r\n",
        "\r\n",
        "eigval_3, eigvec_3=la.eig(B_3)\r\n",
        "eig1=eigvec_3[:,0]\r\n",
        "eig2=eigvec_3[:,1]\r\n",
        "eig3=eigvec_3[:,2]\r\n",
        "\r\n",
        "print('Resultados de B3: \\n')\r\n",
        "print('Eigenvalores: ',eigval_3,'\\n')\r\n",
        "print('Eigenvectores: ')\r\n",
        "print(eig1,'\\n' )\r\n",
        "print(eig2,'\\n' )\r\n",
        "print(eig3,'\\n' )"
      ],
      "execution_count": 13,
      "outputs": [
        {
          "output_type": "stream",
          "text": [
            "[[2 0 0]\n",
            " [0 3 4]\n",
            " [0 4 9]] \n",
            "\n",
            "[[0 1 0]\n",
            " [0 0 1]\n",
            " [1 0 0]] \n",
            "\n",
            "[[2 0 0 0]\n",
            " [1 2 0 0]\n",
            " [0 1 3 0]\n",
            " [0 0 1 3]] \n",
            "\n",
            "Resultados de B1: \n",
            "\n",
            "Eigenvalores:  [11.+0.j  1.+0.j  2.+0.j] \n",
            "\n",
            "Eigenvectores: \n",
            "[0.         0.4472136  0.89442719] \n",
            "\n",
            "[ 0.          0.89442719 -0.4472136 ] \n",
            "\n",
            "[1. 0. 0.] \n",
            "\n",
            "Resultados de B2: \n",
            "\n",
            "Eigenvalores:  [-0.5+0.8660254j -0.5-0.8660254j  1. +0.j       ] \n",
            "\n",
            "Eigenvectores: \n",
            "[ 0.57735027+0.j  -0.28867513+0.5j -0.28867513-0.5j] \n",
            "\n",
            "[ 0.57735027-0.j  -0.28867513-0.5j -0.28867513+0.5j] \n",
            "\n",
            "[-0.57735027+0.j -0.57735027+0.j -0.57735027+0.j] \n",
            "\n",
            "Resultados de B3: \n",
            "\n",
            "Eigenvalores:  [3.+0.j 3.+0.j 2.+0.j 2.+0.j] \n",
            "\n",
            "Eigenvectores: \n",
            "[0. 0. 0. 1.] \n",
            "\n",
            "[ 0.00000000e+00  0.00000000e+00  6.66133815e-16 -1.00000000e+00] \n",
            "\n",
            "[ 0.          0.57735027 -0.57735027  0.57735027] \n",
            "\n"
          ],
          "name": "stdout"
        }
      ]
    },
    {
      "cell_type": "markdown",
      "metadata": {
        "id": "a0Zf1NkE5mJs"
      },
      "source": [
        "***Comparación con los valores de wikipedia***\r\n",
        "\r\n",
        "Los eigenvectores obtenidos no coinciden por completo con los resultados dados por la wikipedia. Esto se debe a que, gracias a la propiedad de los determinantes de cambiar de signo cuando se cambian sus renglones. \r\n",
        "\r\n",
        "Sin embargo, se mantienen las relaciones entre los números (doble de las constantes arbitrarias) y cantidad de ceros."
      ]
    },
    {
      "cell_type": "markdown",
      "metadata": {
        "id": "XaXPiBgu_hV4"
      },
      "source": [
        "# ***Ejercicios 5: Interpolación***\r\n",
        "\r\n",
        "Interpolar un polinomio de grado 8 a los puntos $(x, y)$:\r\n",
        "\r\n",
        "$$ (0.0, 0.0) $$\r\n",
        "\r\n",
        "$$ (0.5, 0.47942) $$\r\n",
        "\r\n",
        "$$ (1.0, 0.84147) $$\r\n",
        "\r\n",
        "$$ (1.5, 0.99749) $$\r\n",
        "\r\n",
        "$$ (2.0, 0.90930) $$\r\n",
        "\r\n",
        "$$ (2.5, 0.59847) $$\r\n",
        "\r\n",
        "$$ (3.0, 0.14112) $$\r\n",
        "\r\n",
        "$$ (3.5, -0.35078) $$"
      ]
    },
    {
      "cell_type": "code",
      "metadata": {
        "id": "4PerJFRv_kzs",
        "colab": {
          "base_uri": "https://localhost:8080/",
          "height": 312
        },
        "outputId": "788e5f1a-b6f9-44f2-c204-1441a6e3c8f8"
      },
      "source": [
        "# Interpolación de 8 puntos.\r\n",
        "n=9\r\n",
        "x=np.array([0.0,0.5,1.0,1.5,2.0,2.5,3.0,3.5]).reshape(8,1)\r\n",
        "\r\n",
        "y=np.array([0.0,0.47942,0.84147,0.99749,0.90930,0.59847,0.14112,-0.35078]).reshape(8,1)\r\n",
        "\r\n",
        "X = np.column_stack([x**k for k in range(0,n-1)])\r\n",
        "\r\n",
        "print(X[:0,:])\r\n",
        "\r\n",
        "a=la.solve(X,y)\r\n",
        "a.shape\r\n",
        "\r\n",
        "xpol=np.linspace(-2,7,200)\r\n",
        "ypol=sum([a[k]*xpol**k for k in range(0,n-1)])\r\n",
        "ysin=np.sin(xpol)\r\n",
        "\r\n",
        "plt.plot(x,y,'r.',label='datos')\r\n",
        "plt.plot(xpol,ypol,'orange', label='polinomio')\r\n",
        "plt.plot(xpol,ysin,'black',label='función seno')\r\n",
        "plt.title('Polinomio de interpolación de los datos')\r\n",
        "plt.xlabel('x')\r\n",
        "plt.ylabel('y')\r\n",
        "plt.legend()\r\n",
        "plt.show()\r\n"
      ],
      "execution_count": 14,
      "outputs": [
        {
          "output_type": "stream",
          "text": [
            "[]\n"
          ],
          "name": "stdout"
        },
        {
          "output_type": "display_data",
          "data": {
            "image/png": "[encoded data removed]",
            "text/plain": [
              "<Figure size 432x288 with 1 Axes>"
            ]
          },
          "metadata": {
            "tags": [],
            "needs_background": "light"
          }
        }
      ]
    },
    {
      "cell_type": "markdown",
      "metadata": {
        "id": "Hmvajh_CyqeM"
      },
      "source": [
        "# ***Ejercicio 6: Regresión lineal***\r\n",
        "\r\n",
        "Se llevará a cabo la regresión lineal de los datos de tendencia de temperaturasmáximas y mínimas de la Ciudad Lerdo, Durango. Estos datos de tendencia surgieron de la descomposición estacionaria de los valores de las temperaturas a lo largo del periodo de tiempo comprendido entre 1990 hasta 2002.\r\n",
        "\r\n",
        "Importamos los datos de la actividad 5, de la descomposición: Tendencia + Destacionalidad + Residuo, por medio de archivos **csv** subidos a la arpeta de la actividad en *github*."
      ]
    },
    {
      "cell_type": "code",
      "metadata": {
        "id": "W1nRFSJzuOrk"
      },
      "source": [
        "# Leemos y adecuamos los datos de tendencia de la tendencia de temperaturas máximas y mínimas.\r\n",
        "\r\n",
        "url1='https://raw.githubusercontent.com/agustinparada/Fisica_Computacional_I/master/Actividad7/trendmax.csv'\r\n",
        "url2='https://raw.githubusercontent.com/agustinparada/Fisica_Computacional_I/master/Actividad7/trendtmin.csv'\r\n",
        "\r\n",
        "trTmax=pd.read_csv(url1, sep=',',encoding='cp1251', engine='python')\r\n",
        "trTmin=pd.read_csv(url2, sep=',', encoding='cp1251', engine='python')\r\n",
        "\r\n",
        "trTmax['fecha']=pd.to_datetime(trTmax['fecha']).copy()\r\n",
        "trTmin['fecha']=pd.to_datetime(trTmin['fecha']).copy()\r\n",
        "\r\n",
        "trTmax=trTmax.set_index('fecha')\r\n",
        "trTmin=trTmin.set_index('fecha')\r\n",
        "\r\n",
        "trTmax['fec_dec']=trTmax.index.year+(trTmax.index.dayofyear)/365\r\n",
        "trTmin['fec_dec']=trTmin.index.year+(trTmin.index.dayofyear)/365\r\n",
        "\r\n",
        "ar_trTmax=np.array([trTmax['Tmax']])\r\n",
        "ar_trTmin=np.array([trTmin['Tmin']])\r\n",
        "\r\n",
        "ar_trTmax=ar_trTmax.reshape(4205,1)\r\n",
        "ar_trTmin=ar_trTmin.reshape(4205,1)\r\n",
        "\r\n",
        "ar_trTmax_date=np.array([trTmax['fec_dec']]).reshape(4205,1)\r\n",
        "ar_trTmin_date=np.array([trTmin['fec_dec']]).reshape(4205,1)"
      ],
      "execution_count": 30,
      "outputs": []
    },
    {
      "cell_type": "code",
      "metadata": {
        "colab": {
          "base_uri": "https://localhost:8080/",
          "height": 330
        },
        "id": "ytTNDgYpjrXW",
        "outputId": "01a5c3a2-e455-4cdb-b51e-1836e7d78ed9"
      },
      "source": [
        "# Aplicamos regresión lineal para los datos de tendencia de temperatura máxima y graficamos.\r\n",
        "unos_4205=np.array([1 for a in range(1,4206)]).reshape(4205,1)\r\n",
        "X=np.hstack([unos_4205,ar_trTmax_date])\r\n",
        "a=la.solve(X.T @ X, X.T @ ar_trTmax)\r\n",
        "\r\n",
        "xs=np.linspace(1990,2003,6000)\r\n",
        "ys=a[0]+a[1]*xs\r\n",
        "\r\n",
        "plt.plot(ar_trTmax_date, ar_trTmax, 'k.', label='Datos')\r\n",
        "plt.plot(xs, ys, 'red', label='Regresión lineal')\r\n",
        "plt.title('Gráfica de tendencia de temperaturas máximas')\r\n",
        "plt.xlabel('Años (decimal)')\r\n",
        "plt.ylabel('Temperatura (°C)')\r\n",
        "plt.legend()\r\n",
        "plt.show()\r\n",
        "\r\n",
        "print('La pendiente de la recta de regresión de los datos es:\\n', a[1])"
      ],
      "execution_count": 28,
      "outputs": [
        {
          "output_type": "display_data",
          "data": {
            "image/png": "[encoded data removed]",
            "text/plain": [
              "<Figure size 432x288 with 1 Axes>"
            ]
          },
          "metadata": {
            "tags": [],
            "needs_background": "light"
          }
        },
        {
          "output_type": "stream",
          "text": [
            "La pendiente de la recta de regresión de los datos es:\n",
            " [0.1849928]\n"
          ],
          "name": "stdout"
        }
      ]
    },
    {
      "cell_type": "code",
      "metadata": {
        "colab": {
          "base_uri": "https://localhost:8080/",
          "height": 330
        },
        "id": "rXTn8utTCG3S",
        "outputId": "624741d2-a077-45d3-d560-30cf22fc714a"
      },
      "source": [
        "# Aplicamos regresión lineal para los datos de tendencia de temperatura mínima y graficamos.\r\n",
        "X1=np.hstack([unos_4205,ar_trTmin_date])\r\n",
        "a1=la.solve(X1.T @ X1, X1.T @ ar_trTmin)\r\n",
        "\r\n",
        "xs=np.linspace(1990,2003,6000)\r\n",
        "ys=a1[0]+a1[1]*xs\r\n",
        "\r\n",
        "plt.plot(ar_trTmin_date, ar_trTmin, 'k.', label='Datos')\r\n",
        "plt.plot(xs, ys, 'red', label='Regresión lineal')\r\n",
        "plt.title('Gráfica de tendencia de temperaturas mínimas')\r\n",
        "plt.xlabel('Años (decimal)')\r\n",
        "plt.ylabel('Temperatura (°C)')\r\n",
        "plt.legend()\r\n",
        "plt.show()\r\n",
        "\r\n",
        "print('La pendiente de la recta de regresión de los datos:\\n',a1[1])"
      ],
      "execution_count": 29,
      "outputs": [
        {
          "output_type": "display_data",
          "data": {
            "image/png": "[encoded data removed]",
            "text/plain": [
              "<Figure size 432x288 with 1 Axes>"
            ]
          },
          "metadata": {
            "tags": [],
            "needs_background": "light"
          }
        },
        {
          "output_type": "stream",
          "text": [
            "La pendiente de la recta de regresión de los datos:\n",
            " [0.33826361]\n"
          ],
          "name": "stdout"
        }
      ]
    },
    {
      "cell_type": "markdown",
      "metadata": {
        "id": "T55h_KTADlrg"
      },
      "source": [
        "***Breve análisis***\r\n",
        "\r\n",
        "De los valores de las pendientes, podemos conocer que ambas temperaturas poseen una tendencia de aumento."
      ]
    }
  ]
}