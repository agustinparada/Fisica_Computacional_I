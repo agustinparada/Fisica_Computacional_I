{
  "nbformat": 4,
  "nbformat_minor": 0,
  "metadata": {
    "colab": {
      "name": "Actividad2.ipynb",
      "provenance": []
    },
    "kernelspec": {
      "name": "python3",
      "display_name": "Python 3"
    }
  },
  "cells": [
    {
      "cell_type": "code",
      "metadata": {
        "id": "nlDDPgDYtqQo"
      },
      "source": [
        "import numpy as np\r\n",
        "import cmath as cm\r\n",
        "import matplotlib.pyplot as plt"
      ],
      "execution_count": 2,
      "outputs": []
    },
    {
      "cell_type": "markdown",
      "metadata": {
        "id": "1ZmjFlxc5zai"
      },
      "source": [
        "# ***Programas de ejemplo***\r\n",
        "A continuación se presentan códigos de ejemplo que serán de gran ayuda en el aprendizaje y familiarización con el lenguaje de programación *Python*.\r\n",
        "Posteriormente, se muestran los códigos solicitados correspondientes a la *Actividad 2*."
      ]
    },
    {
      "cell_type": "markdown",
      "metadata": {
        "id": "30x4HxeL6cW6"
      },
      "source": [
        "# **Ejemplo de condicional IF**\r\n",
        "Se da, a continuación, un breve código ejemplificando el uso de condcionales."
      ]
    },
    {
      "cell_type": "code",
      "metadata": {
        "colab": {
          "base_uri": "https://localhost:8080/"
        },
        "id": "9EKQRiyo6bT_",
        "outputId": "75034d76-8bcd-4db4-b2a9-fe6245b5700d"
      },
      "source": [
        "# Condicional: if \r\n",
        "\r\n",
        "x = 3\r\n",
        "y = 2\r\n",
        "z = 1\r\n",
        "\r\n",
        "if x == y:\r\n",
        "     print(\"Hola mundo\")\r\n",
        "\r\n",
        "elif x == z:\r\n",
        "     print(\"Hasta luego\")\r\n",
        "\r\n",
        "else:\r\n",
        "     print(\"¿Qué fue eso?\")"
      ],
      "execution_count": null,
      "outputs": [
        {
          "output_type": "stream",
          "text": [
            "¿Qué fue eso?\n"
          ],
          "name": "stdout"
        }
      ]
    },
    {
      "cell_type": "markdown",
      "metadata": {
        "id": "mbNIxa2t7gjy"
      },
      "source": [
        "# **Ejemplo de loop FOR**\r\n",
        "Se da, a continuación, un breve código ejemplificando el uso del loop for."
      ]
    },
    {
      "cell_type": "code",
      "metadata": {
        "colab": {
          "base_uri": "https://localhost:8080/"
        },
        "id": "ST5lM-XH71E6",
        "outputId": "72dde830-0c87-42f1-b4f4-d239950d09d4"
      },
      "source": [
        "#Loop for\r\n",
        "\r\n",
        "print(\"loop 1\")\r\n",
        "for i in range(5): # default - comienza en 0, incrementa en 1\r\n",
        "     print(i)\r\n",
        "\r\n",
        "print(\"\\nloop 2\")\r\n",
        "for i in range(10, 2, -2): # entradas: inicio, fin, tamaño de paso \r\n",
        "     print(i)"
      ],
      "execution_count": null,
      "outputs": [
        {
          "output_type": "stream",
          "text": [
            "loop 1\n",
            "0\n",
            "1\n",
            "2\n",
            "3\n",
            "4\n",
            "\n",
            "loop 2\n",
            "10\n",
            "8\n",
            "6\n",
            "4\n"
          ],
          "name": "stdout"
        }
      ]
    },
    {
      "cell_type": "markdown",
      "metadata": {
        "id": "u4z4MtyF7-eE"
      },
      "source": [
        "# **Ejemplo de loop WHILE**\r\n",
        "Se da, a continuación, un breve código ejemplificando el uso del loop while."
      ]
    },
    {
      "cell_type": "code",
      "metadata": {
        "colab": {
          "base_uri": "https://localhost:8080/"
        },
        "id": "3JiDOeo28YJT",
        "outputId": "23c34dfc-0837-4628-93d4-0b89d4f92d50"
      },
      "source": [
        "# Loop: while\r\n",
        "\r\n",
        "k = 1\r\n",
        "\r\n",
        "while k < 100:\r\n",
        "     print(k**2)\r\n",
        "     k += k**2 "
      ],
      "execution_count": null,
      "outputs": [
        {
          "output_type": "stream",
          "text": [
            "1\n",
            "4\n",
            "36\n",
            "1764\n"
          ],
          "name": "stdout"
        }
      ]
    },
    {
      "cell_type": "markdown",
      "metadata": {
        "id": "bOmUfjNq-Uco"
      },
      "source": [
        "# **Ejemplos de *Continue* y *Break***\r\n",
        "Se dan, a continuación, unos cortos códigos que ilustran un uso de los comando *continue* y *break*."
      ]
    },
    {
      "cell_type": "code",
      "metadata": {
        "colab": {
          "base_uri": "https://localhost:8080/"
        },
        "id": "9yqFVz90-shQ",
        "outputId": "505d1428-61fa-4b6e-ea9b-c5fd4cfe6cd5"
      },
      "source": [
        "# Ejemplos de: continue y break \r\n",
        "\r\n",
        "for n in range(2, 10):\r\n",
        "     if n % 2 == 0:\r\n",
        "          continue # se regresa al inicio                              \r\n",
        "     print(f\"Encontrado {n}, un número impar\")\r\n",
        "\r\n",
        "m = 64\r\n",
        "for y in range(2, m):\r\n",
        "     if m % y == 0: # si n es divisible por x (modulo 0)\r\n",
        "          print(f'{m} igual {y} * {m // y}')\r\n",
        "          break\r\n",
        "\r\n",
        "for i in range(5):\r\n",
        "     for j in range(5*i):\r\n",
        "          if j == 10:\r\n",
        "               print(j)\r\n",
        "               break\r\n",
        "\r\n",
        "#break se va a esta línea\r\n",
        "z=0\r\n",
        "if z==0:\r\n",
        "     pass # no hace nada, continua\r\n",
        "     \r\n",
        "else: \r\n",
        "     print('True!')"
      ],
      "execution_count": null,
      "outputs": [
        {
          "output_type": "stream",
          "text": [
            "Encontrado 3, un número impar\n",
            "Encontrado 5, un número impar\n",
            "Encontrado 7, un número impar\n",
            "Encontrado 9, un número impar\n",
            "64 igual 2 * 32\n",
            "10\n",
            "10\n"
          ],
          "name": "stdout"
        }
      ]
    },
    {
      "cell_type": "markdown",
      "metadata": {
        "id": "1bMrHd7tIt_w"
      },
      "source": [
        "# **Ejemplo de Listas**\r\n",
        "El siguiente, es un breve código cuya tarea es ilustrar algunos de los usos y funcionamiento de las listas en Python."
      ]
    },
    {
      "cell_type": "code",
      "metadata": {
        "colab": {
          "base_uri": "https://localhost:8080/"
        },
        "id": "Qlx6SBwiJs_O",
        "outputId": "ccd64094-e9d2-42da-f0e8-5ae3f03788d6"
      },
      "source": [
        "lista1 = [1,2,3.0,4]\r\n",
        "lista2 = [1.,2,'3',4]\r\n",
        "\r\n",
        "print(lista1)\r\n",
        "print(lista2)\r\n",
        "print(lista1+lista2)\r\n",
        "\r\n",
        "lista1[2:4]=[6,7]\r\n",
        "print(lista1)\r\n",
        "\r\n",
        "lista2.append(0)\r\n",
        "lista2.insert(1,'hola')\r\n",
        "print(lista2)"
      ],
      "execution_count": null,
      "outputs": [
        {
          "output_type": "stream",
          "text": [
            "[1, 2, 3.0, 4]\n",
            "[1.0, 2, '3', 4]\n",
            "[1, 2, 3.0, 4, 1.0, 2, '3', 4]\n",
            "[1, 2, 6, 7]\n",
            "[1.0, 'hola', 2, '3', 4, 0]\n"
          ],
          "name": "stdout"
        }
      ]
    },
    {
      "cell_type": "markdown",
      "metadata": {
        "id": "iTBSvghIN4Zc"
      },
      "source": [
        "# **Ejemplo de arreglos**\r\n",
        "El siguiente, es un breve código cuya tarea es ilustrar algunos de los usos y funcionamiento de los arreglos en Python."
      ]
    },
    {
      "cell_type": "code",
      "metadata": {
        "colab": {
          "base_uri": "https://localhost:8080/"
        },
        "id": "-XqFIls8OMR4",
        "outputId": "c1dbf11b-1afc-4a0e-dfbc-06443289b8b4"
      },
      "source": [
        "# Construcción de un arreglo\r\n",
        "\r\n",
        "s1 = np.array([1,2,3,4])      # Arreglo de enteros\r\n",
        "s2 = np.array([1,2,3,4.0])   # Un número flotante convierte al arreglo a flotante\r\n",
        "s3 = np.array([1,2,3,'4'])    # Un arreglo con un carácter, convierte a todo el arreglo de caracteres.\r\n",
        "s4 = np.arange(0,5,0.5)     # Inserta puntos cada 0.5 entre 0 y 5, incluyendo extremos\r\n",
        "print(s4)\r\n",
        "s5 = np.linspace(0,5,20)    # Inserta 20 puntos entre 0 y 5, incluyendo extremos\r\n",
        "print(s5)\r\n",
        "\r\n",
        "# Acceso a los elementos de un arreglo\r\n",
        "print(s1[2])       # accede al 3er elemento de s1\r\n",
        "print(s1[1:3])    # accede del 2o elemento hasta antes del 4o.   \r\n",
        "\r\n",
        "# Una dimensión\r\n",
        "x1 = np.array([1,2,3,4])\r\n",
        "y1 = np.array([[1],[2],[3],[4]])\r\n",
        "\r\n",
        "# Dos dimensiones\r\n",
        "x2 = np.array([[0, 1], [1, 5]])\r\n",
        "y2 = np.array([[4, 0], [0, 4]])"
      ],
      "execution_count": null,
      "outputs": [
        {
          "output_type": "stream",
          "text": [
            "[0.  0.5 1.  1.5 2.  2.5 3.  3.5 4.  4.5]\n",
            "[0.         0.26315789 0.52631579 0.78947368 1.05263158 1.31578947\n",
            " 1.57894737 1.84210526 2.10526316 2.36842105 2.63157895 2.89473684\n",
            " 3.15789474 3.42105263 3.68421053 3.94736842 4.21052632 4.47368421\n",
            " 4.73684211 5.        ]\n",
            "3\n",
            "[2 3]\n"
          ],
          "name": "stdout"
        }
      ]
    },
    {
      "cell_type": "markdown",
      "metadata": {
        "id": "T1Ri_pLsg-lP"
      },
      "source": [
        "# **Ejemplo de gráficas**\r\n",
        "El siguiente será un breve código para ejemplificar el uso y la graficación."
      ]
    },
    {
      "cell_type": "code",
      "metadata": {
        "colab": {
          "base_uri": "https://localhost:8080/",
          "height": 295
        },
        "id": "TSp_gIZ8iqv4",
        "outputId": "71e90e96-2f60-40d6-a6a1-dc72b6e4c7c6"
      },
      "source": [
        "# Gráfica de funciones\r\n",
        "# Definición de variables y funciones\r\n",
        "\r\n",
        "x = np.linspace(-np.pi,np.pi,100)  # arrego de 100 puntos entre -pi y pi\r\n",
        "y = np.sin(x)      # y será también un arreglo de 100 puntos automáticamente \r\n",
        "y1 = x\r\n",
        "y3 = x**3\r\n",
        "y5 = x**5\r\n",
        "sT = y1 - y3 + y5 # Serie de Taylor de sin(x) a 5o. Orden.\r\n",
        "\r\n",
        "# Creación de la gráficas\r\n",
        "\r\n",
        "plt.subplot(111)\r\n",
        "plt.xlabel(\"X label\")\r\n",
        "plt.ylabel(\"Y label\")\r\n",
        "plt.title(\"Title\")\r\n",
        "\r\n",
        "# Graficar varias funciones\r\n",
        "\r\n",
        "plt.plot(x,y, label=\"sin(x)\")\r\n",
        "plt.plot(x,y1, label='x')\r\n",
        "plt.plot(x,sT, label='Serie Taylor Orden 5')\r\n",
        "\r\n",
        "# Agregar una malla\r\n",
        "\r\n",
        "plt.grid(True)\r\n",
        "\r\n",
        "# Fijar los límites en el eje Y.\r\n",
        "\r\n",
        "plt.ylim(-2, 2)\r\n",
        "\r\n",
        "# Ubicación de las etiquetas de las funciones\r\n",
        "\r\n",
        "plt.legend(bbox_to_anchor=(1,1), loc=\"upper left\")\r\n",
        "plt.show()\r\n",
        "\r\n",
        "#plt.savefig('plot.png')  # Si se desea guardar en un archivo la imagen de la gráfica"
      ],
      "execution_count": null,
      "outputs": [
        {
          "output_type": "display_data",
          "data": {
            "image/png": "[encoded data removed]",
            "text/plain": [
              "<Figure size 432x288 with 1 Axes>"
            ]
          },
          "metadata": {
            "tags": [],
            "needs_background": "light"
          }
        }
      ]
    },
    {
      "cell_type": "markdown",
      "metadata": {
        "id": "RVHiUUDp5sI-"
      },
      "source": [
        "# ***ACTIVIDADES***"
      ]
    },
    {
      "cell_type": "markdown",
      "metadata": {
        "id": "YOkkEBKKXYVh"
      },
      "source": [
        "# **1. Área de un círculo**\r\n",
        "La utilidad del programa a continuación es la de calcular el área de cualquier círculo dado su radio ***r***, de la siguiente forma:\r\n",
        "\r\n",
        "$$ Área = \\pi r^2 $$\r\n",
        "\r\n",
        "Posterior al cálculo, el programa imprime el resultado deseado."
      ]
    },
    {
      "cell_type": "code",
      "metadata": {
        "colab": {
          "base_uri": "https://localhost:8080/"
        },
        "id": "gycYHqTDtyWT",
        "outputId": "e79d115d-eb5f-4c1a-8be6-ccf2378a2e52"
      },
      "source": [
        "\r\n",
        "# Se define una función de 1 variable para calcular el área.  \r\n",
        "def areaCIR(r):\r\n",
        "    return np.pi*r**2\r\n",
        "\r\n",
        "print('Este código tiene la función de calcular el área de un círculo, conociendo el valor de su radio.')\r\n",
        "\r\n",
        "# Solicitamos al usuario que escriba el valor del radio del círculo.\r\n",
        "print(\"Proporciona el radio del círculo: \", end=\"\")\r\n",
        "r = float(input())\r\n",
        "a=areaCIR(r)\r\n",
        "# Imprime el valor del área en formato libre.\r\n",
        "print(\"\\nArea = \", a)\r\n",
        "# Imprime el valor del área con 2 decimales. \r\n",
        "print(\"\\nArea = {:.3f}\".format(a))"
      ],
      "execution_count": null,
      "outputs": [
        {
          "output_type": "stream",
          "text": [
            "Proporciona el radio del círculo: 5\n",
            "\n",
            "Area =  78.53981633974483\n",
            "\n",
            "Area = 78.540\n"
          ],
          "name": "stdout"
        }
      ]
    },
    {
      "cell_type": "markdown",
      "metadata": {
        "id": "JuSD5w1yXgFD"
      },
      "source": [
        "# **2. Área de una elipse**\r\n",
        "La utilidad del programa a continuación es la de calcular el área de cualquier elipse dadas las medidas de sus semiejes mayor y menor (***a, b***) de la siguiente manera:\r\n",
        "\r\n",
        "$$ Área = \\pi ab $$\r\n",
        "\r\n",
        "Posterior al cálculo, el programa imprime el resultado deseado."
      ]
    },
    {
      "cell_type": "code",
      "metadata": {
        "colab": {
          "base_uri": "https://localhost:8080/"
        },
        "id": "J97Q9UhkXlQf",
        "outputId": "f5aa7a20-487f-48b3-814a-8dfdad2539b4"
      },
      "source": [
        "#definimos la función área de dos variables para calcular el área de la elipse.\r\n",
        "def areaEL(a,b):\r\n",
        "  return np.pi*a*b\r\n",
        "\r\n",
        "print('Este código tiene la función de calcular el área de una elipse, conociendo los valores de sus semiejes.')\r\n",
        "#solicitamos al usuario que ingrese el valor de los semiejes de la elipse para proceder con el cálculo.\r\n",
        "a=float(input('ingresa el valor de uno de los semiejes: '))\r\n",
        "b=float(input('ingresa el valor del otro semieje: '))\r\n",
        "ar=areaEL(a,b)\r\n",
        "#imprimimos el valor del área con 3 decimales.\r\n",
        "print('\\nArea = {:.3f}'.format(ar))"
      ],
      "execution_count": null,
      "outputs": [
        {
          "output_type": "stream",
          "text": [
            "ingresa el valor de uno de los semiejes: 2.5\n",
            "ingresa el valor del otro semieje: 1.76776695\n",
            "\n",
            "Area = 13.884\n"
          ],
          "name": "stdout"
        }
      ]
    },
    {
      "cell_type": "markdown",
      "metadata": {
        "id": "DDtDOrqmcluG"
      },
      "source": [
        "# **3. Volumen de una esfera**\r\n",
        "La utilidad del programa a continuación es la de calcular el volumen de cualquier esfera dado su radio ***r***, de la siguiente forma:\r\n",
        "\r\n",
        "$$ Área = \\frac{4}{3} \\pi r^3 $$\r\n",
        "\r\n",
        "Posterior al cálculo, el programa imprime el resultado deseado."
      ]
    },
    {
      "cell_type": "code",
      "metadata": {
        "colab": {
          "base_uri": "https://localhost:8080/"
        },
        "id": "BPIsJE1cclPW",
        "outputId": "cb879a37-876f-4da6-9312-c22533341693"
      },
      "source": [
        "#definimos la función de una variable para calcular el volumen de la esfera.\r\n",
        "def volESF(r):\r\n",
        "  return (4/3)*np.pi*r**3\r\n",
        "\r\n",
        "print('Este código tiene la función de calcular el volumen de una esfera conociendo su radio.')\r\n",
        "# solicitamos al usuario que ingrese el valor del radio de la esfera.\r\n",
        "r=float(input('ingresa el valor del radio de la esfera: '))\r\n",
        "a=volESF(r)\r\n",
        "# imprimimos el valor del volumen de la esfera con 3 decimales.\r\n",
        "print('\\nVolumen = {:.3f}'.format(a))"
      ],
      "execution_count": null,
      "outputs": [
        {
          "output_type": "stream",
          "text": [
            "ingresa el valor del radio de la esfera: 5\n",
            "\n",
            "Volumen = 523.599\n"
          ],
          "name": "stdout"
        }
      ]
    },
    {
      "cell_type": "markdown",
      "metadata": {
        "id": "CDzXbC9rd6mv"
      },
      "source": [
        "# **4. Volumen de un cilindro circular**\r\n",
        "La utilidad del programa a continuación es la de calcular el volumen de cualquier cilindro circular dado su radio ***r*** y su altura ***h***, de la siguiente forma:\r\n",
        "\r\n",
        "$$ Área = \\pi r^2h $$\r\n",
        "\r\n",
        "Posterior al cálculo, el programa imprime el resultado deseado."
      ]
    },
    {
      "cell_type": "code",
      "metadata": {
        "colab": {
          "base_uri": "https://localhost:8080/"
        },
        "id": "jSDGSTEXeAGr",
        "outputId": "46b09b67-ee07-4b70-d25b-bfc40a6c9019"
      },
      "source": [
        "# definimos la función de dos variables para calcular el volumen del cilindro circular.\r\n",
        "def volCIL(r,h):\r\n",
        "  return np.pi*r**2*h\r\n",
        "\r\n",
        "print('Este código tiene la función de calcular el volumen de un cilindro circular conociendo el radio de su base y su altura.')\r\n",
        "# solicitamos al usuario que ingrese los valores del radio del círculo base y la altura del cilindro.\r\n",
        "r=float(input('ingresa el radio del círculo de la base: '))\r\n",
        "h=float(input('escribe la altura del cilindro: '))\r\n",
        "vol=volCIL(r,h)\r\n",
        "# imprimimos el valor del cilindro circular.\r\n",
        "print('*\\nVolumen = {:.3f}'.format(vol))"
      ],
      "execution_count": null,
      "outputs": [
        {
          "output_type": "stream",
          "text": [
            "Este código tiene la función de calcular el volumen de un cilindro circular conociendo el radio de su base y su altura.\n",
            "ingresa el radio del círculo de la base: 5\n",
            "escribe la altura del cilindro: 10\n",
            "*\n",
            "Volumen = 785.398\n"
          ],
          "name": "stdout"
        }
      ]
    },
    {
      "cell_type": "markdown",
      "metadata": {
        "id": "psJiG2VZHHH5"
      },
      "source": [
        "# ***5. Resolución de ecuaciones cuadráticas***\r\n",
        "El siguiente código posee la función de encontrar las raíces de una ecuación de segundo grado de la forma:\r\n",
        "$$ ax^2+bx+c=0, \\ a\\neq 0 $$\r\n",
        "Haciendo uso de la fórmula general:\r\n",
        "$$ x=\\frac{-b\\pm \\sqrt{b^2-4ac}}{2a} $$"
      ]
    },
    {
      "cell_type": "code",
      "metadata": {
        "colab": {
          "base_uri": "https://localhost:8080/"
        },
        "id": "QRo2tcZtHD3H",
        "outputId": "ae2ad997-0364-49e1-eaa4-14e6cdae5fcf"
      },
      "source": [
        "# se resolverá la ecuación general ax^2 + bx +c = 0, mediante fórmula general.\r\n",
        "print('Este programa tiene la función de calcular las raíces de ecuaciones cuadráticas de la forma:')\r\n",
        "print('ax^2 + bx + c = 0 ; con a,b,c siendo números reales o complejos.')\r\n",
        "#Se le solicitan los coeficientes correspondientes a la ecuación al usuario.\r\n",
        "a=complex(input('Introduce el valor de \"a\" (usar \"j\" como la unidad imaginaria si así se requiere): '))\r\n",
        "b=complex(input('Introduce el valor de \"b\" (usar \"j\" como la unidad imaginaria si así se requiere): '))\r\n",
        "c=complex(input('Introduce el valor de \"c\" (usar \"j\" como la unidad imaginaria si así se requiere): '))\r\n",
        "\r\n",
        "#Se realiza el cálculo de las raíces.\r\n",
        "x1=complex((-b+np.sqrt(b**2-4*a*c))/(2*a))\r\n",
        "x2=complex((-b-np.sqrt(b**2-4*a*c))/(2*a))\r\n",
        "\r\n",
        "# Si las raíces resultaron ser reales, y no pudiendo hacer float a una variable tipo complex, la reemplazamos por su 'parte real' y se imprimen.\r\n",
        "if x1.imag==0:\r\n",
        "  x1=x1.real\r\n",
        "  x2=x2.real\r\n",
        "\r\n",
        "  print('\\nx1 = {:.5f}'.format(x1))\r\n",
        "  print('\\nx2 = {:.5f}'.format(x2))\r\n",
        "# Impresión de resultados si las raíces son complejas.\r\n",
        "else:\r\n",
        "  print('\\nx1 = {:.5f}'.format(x1.real),' + {:.5f}'.format(x1.imag),' i')\r\n",
        "  print('\\nx2 = {:.5f}'.format(x2.real),' + {:.5f}'.format(x2.imag),' i')\r\n",
        "#xdddd"
      ],
      "execution_count": null,
      "outputs": [
        {
          "output_type": "stream",
          "text": [
            "Introduce el valor de \"a\" (usar \"j\" como la unidad imaginaria si así se requiere): 4\n",
            "Introduce el valor de \"b\" (usar \"j\" como la unidad imaginaria si así se requiere): 2\n",
            "Introduce el valor de \"c\" (usar \"j\" como la unidad imaginaria si así se requiere): 3\n",
            "\n",
            "x1 = -0.25000  + 0.82916  i\n",
            "\n",
            "x2 = -0.25000  + -0.82916  i\n"
          ],
          "name": "stdout"
        }
      ]
    },
    {
      "cell_type": "markdown",
      "metadata": {
        "id": "bmMQEzRCy5iH"
      },
      "source": [
        "# ***6. Método de Herón Para Raíces cuadradas***\r\n",
        "En el siguiente código tine el objetivo de aproximar raíces cuadradas por medio del método babilonio, con un error menor que el que se especifique. Se lleva a cabo una recursión de las siguientes ecuaciones hasta que se alcanza un error menor del establecido. Las ecuaciones son:\r\n",
        "$$ x_0\\approx \\sqrt(S) $$\r\n",
        "$$ x_{n+1}=\\frac{1}{2}(x_n+\\frac{S}{x_n}) $$\r\n",
        "$$ \\sqrt(S)=\\lim_{n\\rightarrow \\infty} x_n $$"
      ]
    },
    {
      "cell_type": "code",
      "metadata": {
        "colab": {
          "base_uri": "https://localhost:8080/"
        },
        "id": "Ho1tdi5TzA2e",
        "outputId": "80491ad0-7660-4420-cff2-0d183e268f75"
      },
      "source": [
        "# Definimos la función de dos variables aplicando la fórmula babilonia.\r\n",
        "def H(x,s):\r\n",
        "  return 1/2*(x+s/x)\r\n",
        "\r\n",
        "# Solicitamos al usuario que inserte el número cuya raíz cuadrada desee conocer.\r\n",
        "s=float(input('Escribe el número cuya raíz cuadrada deseas aproximar: '))\r\n",
        "\r\n",
        "# Cumplimos la primera condición de Herón al hacer que el valor inicial de las iteraciones es aproximado al número deseado.\r\n",
        "x=np.sqrt(s)-0.1\r\n",
        "\r\n",
        "# Pedimos al usuario que inserte el máximo error relativo de la aproximación.\r\n",
        "E=float(input('Indica el máximo error de la aproximación (un número entre 0 y 1): '))\r\n",
        "\r\n",
        "# Iniciamos las iteraciones hasta alcanzar un error menor o igual al indicado.\r\n",
        "for i in range(1000):\r\n",
        "  x=H(x,s)\r\n",
        "  err=abs(np.sqrt(s)-x)/np.sqrt(s)\r\n",
        "  if err<E:\r\n",
        "    break\r\n",
        "\r\n",
        "#imprimimos el resultado.\r\n",
        "print('la raíz del número, aproximadamente, es: ',x)"
      ],
      "execution_count": null,
      "outputs": [
        {
          "output_type": "stream",
          "text": [
            "Escribe el número cuya raíz cuadrada deseas aproximar: 58974.25478\n",
            "Indica el máximo error de la aproximación (un número entre 0 y 1): 0.00000000000000001\n",
            "la raíz del número, aproximadamente, es:  242.84615455057138\n"
          ],
          "name": "stdout"
        }
      ]
    },
    {
      "cell_type": "markdown",
      "metadata": {
        "id": "CeCbYJshk8BD"
      },
      "source": [
        "# ***7. Gráficas de polinomios de Taylor***\r\n",
        "El siguiente código se enfocará en calcular y graficar polinomios de Taylor de distintos grados de la función $\\ln(x+1)$. Se utiliza su serie de Taylor:\r\n",
        "$$\\ln(x+1)= \\displaystyle \\sum_{n=1}^{\\infty} (-1)^{n+1}\\frac{x^n}{n}=x-\\frac{x^2}{2}+\\frac{x^3}{3}+\\dots \\ -1<x\\leq 1 $$"
      ]
    },
    {
      "cell_type": "code",
      "metadata": {
        "colab": {
          "base_uri": "https://localhost:8080/",
          "height": 281
        },
        "id": "Chy3WtUinibK",
        "outputId": "58482369-7e22-4b59-aa2f-fdb074408a1c"
      },
      "source": [
        "#Definimos una función de 2 variables para el cálculo del polinomio de Taylor.\r\n",
        "\r\n",
        "def pt(x,n):\r\n",
        "  res=[]\r\n",
        "  for a in x:\r\n",
        "    r=0\r\n",
        "    for i in range(1,n+1):\r\n",
        "      r=r+(-1)**(i+1)*(a**i)*(1/i)\r\n",
        "    res.append(r)\r\n",
        "  return np.array(res)\r\n",
        "\r\n",
        "# Creamos el arreglo de los valores que se van a evaluar en la función polinomio de Taylor, y evaluamos para distintos grados.\r\n",
        "\r\n",
        "x=np.arange(1,-1,-0.01)\r\n",
        "T4=pt(x,4)\r\n",
        "T7=pt(x,7)\r\n",
        "T11=pt(x,11)\r\n",
        "T16=pt(x,16)\r\n",
        "y=np.log(x+1)\r\n",
        "\r\n",
        "# Creamos una sola gráfica con título asignado.\r\n",
        "plt.subplot(111)\r\n",
        "plt.title('Polinomios de Taylor de distintos grados, aproximando a la función logaritmo natural.')\r\n",
        "\r\n",
        "# Graficamos los conjuntos de datos correspondientes.\r\n",
        "plt.plot(x,T4,label='T4')\r\n",
        "plt.plot(x,T7,label='T7')\r\n",
        "plt.plot(x,T11,label='T11')\r\n",
        "plt.plot(x,T16,label='T16')\r\n",
        "plt.plot(x,y,label='ln(x+1)')\r\n",
        "plt.xlim(-1.5,1.5)\r\n",
        "plt.ylim(-4,1.5)\r\n",
        "\r\n",
        "# Definimos la ubicación de la leyenda de la gráfica.\r\n",
        "plt.legend(bbox_to_anchor=(1,1),loc=\"upper left\")\r\n",
        "plt.savefig('pol_taylor.jpg')"
      ],
      "execution_count": 4,
      "outputs": [
        {
          "output_type": "display_data",
          "data": {
            "image/png": "[encoded data removed]",
            "text/plain": [
              "<Figure size 432x288 with 1 Axes>"
            ]
          },
          "metadata": {
            "tags": [],
            "needs_background": "light"
          }
        }
      ]
    }
  ]
}